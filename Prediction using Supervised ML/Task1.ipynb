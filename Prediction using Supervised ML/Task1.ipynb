{
  "nbformat": 4,
  "nbformat_minor": 0,
  "metadata": {
    "colab": {
      "name": "Task1.ipynb",
      "provenance": []
    },
    "kernelspec": {
      "name": "python3",
      "display_name": "Python 3"
    }
  },
  "cells": [
    {
      "cell_type": "markdown",
      "metadata": {
        "id": "MrD_D8T9GPZI"
      },
      "source": [
        "# Prediction using Supervised ML"
      ]
    },
    {
      "cell_type": "code",
      "metadata": {
        "id": "FdDQtrtMGOle"
      },
      "source": [
        "#importing required libraries  \r\n",
        "import pandas as pd\r\n",
        "import numpy as np\r\n",
        "import matplotlib.pyplot as plt\r\n",
        "%matplotlib inline"
      ],
      "execution_count": 3,
      "outputs": []
    },
    {
      "cell_type": "code",
      "metadata": {
        "colab": {
          "base_uri": "https://localhost:8080/",
          "height": 221
        },
        "id": "5ejTaFO4GP7e",
        "outputId": "c58a9f9c-5b02-4736-98e9-75543c4b6a8a"
      },
      "source": [
        "#Reading Data\r\n",
        "link = \"http://bit.ly/w-data\"\r\n",
        "data = pd.read_csv(link)\r\n",
        "print(\"Data Imported Successfully\")\r\n",
        "data.head(5)"
      ],
      "execution_count": 4,
      "outputs": [
        {
          "output_type": "stream",
          "text": [
            "Data Imported Successfully\n"
          ],
          "name": "stdout"
        },
        {
          "output_type": "execute_result",
          "data": {
            "text/html": [
              "<div>\n",
              "<style scoped>\n",
              "    .dataframe tbody tr th:only-of-type {\n",
              "        vertical-align: middle;\n",
              "    }\n",
              "\n",
              "    .dataframe tbody tr th {\n",
              "        vertical-align: top;\n",
              "    }\n",
              "\n",
              "    .dataframe thead th {\n",
              "        text-align: right;\n",
              "    }\n",
              "</style>\n",
              "<table border=\"1\" class=\"dataframe\">\n",
              "  <thead>\n",
              "    <tr style=\"text-align: right;\">\n",
              "      <th></th>\n",
              "      <th>Hours</th>\n",
              "      <th>Scores</th>\n",
              "    </tr>\n",
              "  </thead>\n",
              "  <tbody>\n",
              "    <tr>\n",
              "      <th>0</th>\n",
              "      <td>2.5</td>\n",
              "      <td>21</td>\n",
              "    </tr>\n",
              "    <tr>\n",
              "      <th>1</th>\n",
              "      <td>5.1</td>\n",
              "      <td>47</td>\n",
              "    </tr>\n",
              "    <tr>\n",
              "      <th>2</th>\n",
              "      <td>3.2</td>\n",
              "      <td>27</td>\n",
              "    </tr>\n",
              "    <tr>\n",
              "      <th>3</th>\n",
              "      <td>8.5</td>\n",
              "      <td>75</td>\n",
              "    </tr>\n",
              "    <tr>\n",
              "      <th>4</th>\n",
              "      <td>3.5</td>\n",
              "      <td>30</td>\n",
              "    </tr>\n",
              "  </tbody>\n",
              "</table>\n",
              "</div>"
            ],
            "text/plain": [
              "   Hours  Scores\n",
              "0    2.5      21\n",
              "1    5.1      47\n",
              "2    3.2      27\n",
              "3    8.5      75\n",
              "4    3.5      30"
            ]
          },
          "metadata": {
            "tags": []
          },
          "execution_count": 4
        }
      ]
    },
    {
      "cell_type": "markdown",
      "metadata": {
        "id": "FSkLRI-qIVKY"
      },
      "source": [
        "**Visualizing Data**"
      ]
    },
    {
      "cell_type": "code",
      "metadata": {
        "colab": {
          "base_uri": "https://localhost:8080/",
          "height": 297
        },
        "id": "Il5Cs3pKHwAT",
        "outputId": "216054d3-2efa-48be-b026-bae945e52ab2"
      },
      "source": [
        "# Plotting the distribution of scores\r\n",
        "plt.title('Hours vs Percentage', fontsize=15)  \r\n",
        "plt.xlabel('Hours Studied')  \r\n",
        "plt.ylabel('Percentage Score')  \r\n",
        "plt.scatter(data.Hours,data.Scores,color='red')\r\n",
        "plt.show()"
      ],
      "execution_count": 21,
      "outputs": [
        {
          "output_type": "display_data",
          "data": {
            "image/png": "[encoded data removed]",
            "text/plain": [
              "<Figure size 432x288 with 1 Axes>"
            ]
          },
          "metadata": {
            "tags": [],
            "needs_background": "light"
          }
        }
      ]
    },
    {
      "cell_type": "markdown",
      "metadata": {
        "id": "PPcPBi_iJGuD"
      },
      "source": [
        "From the above **SCATTER PLOT** , it indicates there is a positive linear relation between the number of hours studied and percentage of score."
      ]
    },
    {
      "cell_type": "code",
      "metadata": {
        "id": "l57DTbyOIUKt"
      },
      "source": [
        "#Preparing Data\r\n",
        "x = data.iloc[:, :-1].values  \r\n",
        "y = data.iloc[:, 1].values\r\n"
      ],
      "execution_count": 18,
      "outputs": []
    },
    {
      "cell_type": "markdown",
      "metadata": {
        "id": "GE-zDFFXNm2M"
      },
      "source": [
        "**Splitting into train and test sets**"
      ]
    },
    {
      "cell_type": "code",
      "metadata": {
        "id": "y6kopPoXHwHP"
      },
      "source": [
        "from sklearn.model_selection import train_test_split  \r\n",
        "x_train, x_test, y_train, y_test = train_test_split(x, y,test_size=0.2, random_state=0) "
      ],
      "execution_count": 19,
      "outputs": []
    },
    {
      "cell_type": "markdown",
      "metadata": {
        "id": "V4h6rAc0Of9O"
      },
      "source": [
        "**Training the model.**"
      ]
    },
    {
      "cell_type": "code",
      "metadata": {
        "colab": {
          "base_uri": "https://localhost:8080/"
        },
        "id": "jwbO47mUHwPE",
        "outputId": "8459bcb5-ef18-4575-da4e-8df07ef03cec"
      },
      "source": [
        "from sklearn.linear_model import LinearRegression\r\n",
        "linreg=LinearRegression()\r\n",
        "\r\n",
        "##Fitting Training Data\r\n",
        "linreg.fit(x_train,y_train)\r\n",
        "print(\"Training our model is finished\")"
      ],
      "execution_count": 20,
      "outputs": [
        {
          "output_type": "stream",
          "text": [
            "Training our model is finished\n"
          ],
          "name": "stdout"
        }
      ]
    },
    {
      "cell_type": "code",
      "metadata": {
        "id": "vF8YpbjVQfOk"
      },
      "source": [
        "#Plotting the REGRESSION LINE\r\n",
        "rline = linreg.intercept_ + linreg.coef_*x_train"
      ],
      "execution_count": 22,
      "outputs": []
    },
    {
      "cell_type": "markdown",
      "metadata": {
        "id": "bVOotjvNRzrA"
      },
      "source": [
        "**Plotting Train Data**"
      ]
    },
    {
      "cell_type": "code",
      "metadata": {
        "colab": {
          "base_uri": "https://localhost:8080/",
          "height": 297
        },
        "id": "g8F6-XBqRXO6",
        "outputId": "de541dce-e52b-4d3c-f4cc-a39dac12229a"
      },
      "source": [
        "plt.title(\"Regression line(Train set)\",fontsize=15)\r\n",
        "plt.xlabel(\"Hours\")\r\n",
        "plt.ylabel(\"Scores\")\r\n",
        "plt.scatter(x_train,y_train,color='red')\r\n",
        "plt.plot(x_train,rline,color='blue')\r\n",
        "plt.show()"
      ],
      "execution_count": 23,
      "outputs": [
        {
          "output_type": "display_data",
          "data": {
            "image/png": "[encoded data removed]",
            "text/plain": [
              "<Figure size 432x288 with 1 Axes>"
            ]
          },
          "metadata": {
            "tags": [],
            "needs_background": "light"
          }
        }
      ]
    },
    {
      "cell_type": "code",
      "metadata": {
        "colab": {
          "base_uri": "https://localhost:8080/"
        },
        "id": "XCKjSKZGTj6H",
        "outputId": "c58b6b1c-f4d8-40f9-cd6a-b8011c0eb784"
      },
      "source": [
        "#Predicting the Scores for test data\r\n",
        "y_pred=linreg.predict(x_test) \r\n",
        "print(y_pred)"
      ],
      "execution_count": 27,
      "outputs": [
        {
          "output_type": "stream",
          "text": [
            "[16.88414476 33.73226078 75.357018   26.79480124 60.49103328]\n"
          ],
          "name": "stdout"
        }
      ]
    },
    {
      "cell_type": "code",
      "metadata": {
        "colab": {
          "base_uri": "https://localhost:8080/"
        },
        "id": "tOUM_npdTkBt",
        "outputId": "682644fa-3258-432c-83f1-54ac934ecd1e"
      },
      "source": [
        "print(y_test)"
      ],
      "execution_count": 28,
      "outputs": [
        {
          "output_type": "stream",
          "text": [
            "[20 27 69 30 62]\n"
          ],
          "name": "stdout"
        }
      ]
    },
    {
      "cell_type": "markdown",
      "metadata": {
        "id": "AskCSwPeXZck"
      },
      "source": [
        "**Plotting Test Data**"
      ]
    },
    {
      "cell_type": "code",
      "metadata": {
        "colab": {
          "base_uri": "https://localhost:8080/",
          "height": 297
        },
        "id": "JnVVUDsNYsBr",
        "outputId": "5c9f4fab-658e-4b34-a268-81a603c3dace"
      },
      "source": [
        "plt.xlabel(\"Hours\")\r\n",
        "plt.ylabel(\"Scores\")\r\n",
        "plt.title(\"Regression line(Test set)\",fontsize=15)\r\n",
        "plt.plot(x_test,y_pred,color='red')\r\n",
        "plt.scatter(x_test,y_test,color='blue')\r\n",
        "plt.show()"
      ],
      "execution_count": 34,
      "outputs": [
        {
          "output_type": "display_data",
          "data": {
            "image/png": "[encoded data removed]",
            "text/plain": [
              "<Figure size 432x288 with 1 Axes>"
            ]
          },
          "metadata": {
            "tags": [],
            "needs_background": "light"
          }
        }
      ]
    },
    {
      "cell_type": "markdown",
      "metadata": {
        "id": "eMwmc1goWkP1"
      },
      "source": [
        "**Comparing Actual Score vs Predicted Score**"
      ]
    },
    {
      "cell_type": "code",
      "metadata": {
        "colab": {
          "base_uri": "https://localhost:8080/",
          "height": 204
        },
        "id": "5B7Am_hcWlOD",
        "outputId": "4d83bf32-2e6d-4cf0-e2b7-73ae8b1c8f4f"
      },
      "source": [
        "actual = list(y_test)\r\n",
        "pred=list(y_pred)\r\n",
        "compare = pd.DataFrame({ 'Actual':actual,'Result':pred})\r\n",
        "compare"
      ],
      "execution_count": 31,
      "outputs": [
        {
          "output_type": "execute_result",
          "data": {
            "text/html": [
              "<div>\n",
              "<style scoped>\n",
              "    .dataframe tbody tr th:only-of-type {\n",
              "        vertical-align: middle;\n",
              "    }\n",
              "\n",
              "    .dataframe tbody tr th {\n",
              "        vertical-align: top;\n",
              "    }\n",
              "\n",
              "    .dataframe thead th {\n",
              "        text-align: right;\n",
              "    }\n",
              "</style>\n",
              "<table border=\"1\" class=\"dataframe\">\n",
              "  <thead>\n",
              "    <tr style=\"text-align: right;\">\n",
              "      <th></th>\n",
              "      <th>Actual</th>\n",
              "      <th>Result</th>\n",
              "    </tr>\n",
              "  </thead>\n",
              "  <tbody>\n",
              "    <tr>\n",
              "      <th>0</th>\n",
              "      <td>20</td>\n",
              "      <td>16.884145</td>\n",
              "    </tr>\n",
              "    <tr>\n",
              "      <th>1</th>\n",
              "      <td>27</td>\n",
              "      <td>33.732261</td>\n",
              "    </tr>\n",
              "    <tr>\n",
              "      <th>2</th>\n",
              "      <td>69</td>\n",
              "      <td>75.357018</td>\n",
              "    </tr>\n",
              "    <tr>\n",
              "      <th>3</th>\n",
              "      <td>30</td>\n",
              "      <td>26.794801</td>\n",
              "    </tr>\n",
              "    <tr>\n",
              "      <th>4</th>\n",
              "      <td>62</td>\n",
              "      <td>60.491033</td>\n",
              "    </tr>\n",
              "  </tbody>\n",
              "</table>\n",
              "</div>"
            ],
            "text/plain": [
              "   Actual     Result\n",
              "0      20  16.884145\n",
              "1      27  33.732261\n",
              "2      69  75.357018\n",
              "3      30  26.794801\n",
              "4      62  60.491033"
            ]
          },
          "metadata": {
            "tags": []
          },
          "execution_count": 31
        }
      ]
    },
    {
      "cell_type": "markdown",
      "metadata": {
        "id": "sy0fGa2dZbre"
      },
      "source": [
        "**Errors**"
      ]
    },
    {
      "cell_type": "code",
      "metadata": {
        "colab": {
          "base_uri": "https://localhost:8080/"
        },
        "id": "3HP2QYxjWiG8",
        "outputId": "40fe7051-505c-44d5-aa0f-8e1318d103f7"
      },
      "source": [
        "from sklearn import metrics\r\n",
        "mse = metrics.mean_squared_error(y_test,y_pred)\r\n",
        "rmse = np.sqrt(metrics.mean_squared_error(y_test,y_pred))\r\n",
        "mae = metrics.mean_absolute_error(y_test, y_pred)\r\n",
        "print(\"Mean Squared Error      = \",mse)\r\n",
        "print(\"Root Mean Squared Error = \",rmse)\r\n",
        "print(\"Mean Absolute Error     = \",mae)"
      ],
      "execution_count": 37,
      "outputs": [
        {
          "output_type": "stream",
          "text": [
            "Mean Squared Error      =  21.598769307217456\n",
            "Root Mean Squared Error =  4.647447612100373\n",
            "Mean Absolute Error     =  4.183859899002982\n"
          ],
          "name": "stdout"
        }
      ]
    },
    {
      "cell_type": "markdown",
      "metadata": {
        "id": "vSGSi8Kjas2G"
      },
      "source": [
        "**Predicting Score**"
      ]
    },
    {
      "cell_type": "code",
      "metadata": {
        "colab": {
          "base_uri": "https://localhost:8080/"
        },
        "id": "m8NNKOZ1atKT",
        "outputId": "43933bc4-3897-4333-bb1e-df618f5bdbb8"
      },
      "source": [
        "hours = 9.25\r\n",
        "prediction_score = linreg.predict([[hours]])\r\n",
        "print(\"Predicted score for a student studying\", hours ,\"hours :\",prediction_score)"
      ],
      "execution_count": 43,
      "outputs": [
        {
          "output_type": "stream",
          "text": [
            "Predicted score for a student studying 9.25 hours : [93.69173249]\n"
          ],
          "name": "stdout"
        }
      ]
    }
  ]
}